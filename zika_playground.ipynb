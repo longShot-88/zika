{
 "cells": [
  {
   "cell_type": "code",
   "execution_count": 1,
   "metadata": {
    "collapsed": false
   },
   "outputs": [
    {
     "name": "stderr",
     "output_type": "stream",
     "text": [
      "/Users/AndyMC/miniconda2/envs/tf/lib/python2.7/site-packages/matplotlib/font_manager.py:273: UserWarning: Matplotlib is building the font cache using fc-list. This may take a moment.\n",
      "  warnings.warn('Matplotlib is building the font cache using fc-list. This may take a moment.')\n"
     ]
    }
   ],
   "source": [
    "%load_ext autoreload\n",
    "%autoreload 2\n",
    "%matplotlib inline\n",
    "%config InlineBackend.figure_format='retina' \n",
    "\n",
    "# Add this to python2 code to make life easier\n",
    "from __future__ import absolute_import, division, print_function\n",
    "\n",
    "from itertools import combinations\n",
    "from pivottablejs import pivot_ui\n",
    "import string\n",
    "\n",
    "from IPython.display import IFrame, HTML, YouTubeVideo, Image\n",
    "import matplotlib.pyplot as plt\n",
    "import numpy as np\n",
    "import pandas as pd\n",
    "import scipy as sp\n",
    "import seaborn as sns\n",
    "\n",
    "sns.set();\n",
    "plt.rcParams['figure.figsize'] = (12, 8)\n",
    "sns.set_style(\"darkgrid\")\n",
    "sns.set_context(\"poster\", font_scale=1.3)"
   ]
  },
  {
   "cell_type": "code",
   "execution_count": 2,
   "metadata": {
    "collapsed": false
   },
   "outputs": [
    {
     "data": {
      "text/html": [
       "<iframe src=https://en.wikipedia.org/wiki/Zika_fever width=100% height=300></iframe>"
      ],
      "text/plain": [
       "<IPython.core.display.HTML object>"
      ]
     },
     "execution_count": 2,
     "metadata": {},
     "output_type": "execute_result"
    }
   ],
   "source": [
    "HTML('<iframe src=https://en.wikipedia.org/wiki/Zika_fever width=100% height=300></iframe>')"
   ]
  },
  {
   "cell_type": "code",
   "execution_count": 3,
   "metadata": {
    "collapsed": false
   },
   "outputs": [
    {
     "data": {
      "text/html": [
       "\n",
       "        <iframe\n",
       "            width=\"400\"\n",
       "            height=\"300\"\n",
       "            src=\"https://www.youtube.com/embed/v=JUlGN5XJ5dc\"\n",
       "            frameborder=\"0\"\n",
       "            allowfullscreen\n",
       "        ></iframe>\n",
       "        "
      ],
      "text/plain": [
       "<IPython.lib.display.YouTubeVideo at 0x103d7ed90>"
      ]
     },
     "execution_count": 3,
     "metadata": {},
     "output_type": "execute_result"
    }
   ],
   "source": [
    "YouTubeVideo(\"v=JUlGN5XJ5dc\")"
   ]
  },
  {
   "cell_type": "code",
   "execution_count": 4,
   "metadata": {
    "collapsed": false
   },
   "outputs": [
    {
     "name": "stderr",
     "output_type": "stream",
     "text": [
      "/Users/AndyMC/miniconda2/envs/tf/lib/python2.7/site-packages/IPython/core/interactiveshell.py:2723: DtypeWarning: Columns (7) have mixed types. Specify dtype option on import or set low_memory=False.\n",
      "  interactivity=interactivity, compiler=compiler, result=result)\n"
     ]
    }
   ],
   "source": [
    "df = pd.read_csv(\"../cdc_zika.csv\")"
   ]
  },
  {
   "cell_type": "code",
   "execution_count": 5,
   "metadata": {
    "collapsed": false
   },
   "outputs": [
    {
     "data": {
      "text/html": [
       "<div>\n",
       "<table border=\"1\" class=\"dataframe\">\n",
       "  <thead>\n",
       "    <tr style=\"text-align: right;\">\n",
       "      <th></th>\n",
       "      <th>0</th>\n",
       "      <th>1</th>\n",
       "      <th>2</th>\n",
       "      <th>3</th>\n",
       "      <th>4</th>\n",
       "      <th>5</th>\n",
       "      <th>6</th>\n",
       "      <th>7</th>\n",
       "      <th>8</th>\n",
       "      <th>9</th>\n",
       "    </tr>\n",
       "  </thead>\n",
       "  <tbody>\n",
       "    <tr>\n",
       "      <th>report_date</th>\n",
       "      <td>2016-03-19</td>\n",
       "      <td>2016-03-19</td>\n",
       "      <td>2016-03-19</td>\n",
       "      <td>2016-03-19</td>\n",
       "      <td>2016-03-19</td>\n",
       "      <td>2016-03-19</td>\n",
       "      <td>2016-03-19</td>\n",
       "      <td>2016-03-19</td>\n",
       "      <td>2016-03-19</td>\n",
       "      <td>2016-03-19</td>\n",
       "    </tr>\n",
       "    <tr>\n",
       "      <th>location</th>\n",
       "      <td>Argentina-Buenos_Aires</td>\n",
       "      <td>Argentina-Buenos_Aires</td>\n",
       "      <td>Argentina-Buenos_Aires</td>\n",
       "      <td>Argentina-Buenos_Aires</td>\n",
       "      <td>Argentina-Buenos_Aires</td>\n",
       "      <td>Argentina-Buenos_Aires</td>\n",
       "      <td>Argentina-CABA</td>\n",
       "      <td>Argentina-CABA</td>\n",
       "      <td>Argentina-CABA</td>\n",
       "      <td>Argentina-CABA</td>\n",
       "    </tr>\n",
       "    <tr>\n",
       "      <th>location_type</th>\n",
       "      <td>province</td>\n",
       "      <td>province</td>\n",
       "      <td>province</td>\n",
       "      <td>province</td>\n",
       "      <td>province</td>\n",
       "      <td>province</td>\n",
       "      <td>province</td>\n",
       "      <td>province</td>\n",
       "      <td>province</td>\n",
       "      <td>province</td>\n",
       "    </tr>\n",
       "    <tr>\n",
       "      <th>data_field</th>\n",
       "      <td>cumulative_confirmed_local_cases</td>\n",
       "      <td>cumulative_probable_local_cases</td>\n",
       "      <td>cumulative_confirmed_imported_cases</td>\n",
       "      <td>cumulative_probable_imported_cases</td>\n",
       "      <td>cumulative_cases_under_study</td>\n",
       "      <td>cumulative_cases_discarded</td>\n",
       "      <td>cumulative_confirmed_local_cases</td>\n",
       "      <td>cumulative_probable_local_cases</td>\n",
       "      <td>cumulative_confirmed_imported_cases</td>\n",
       "      <td>cumulative_probable_imported_cases</td>\n",
       "    </tr>\n",
       "    <tr>\n",
       "      <th>data_field_code</th>\n",
       "      <td>AR0001</td>\n",
       "      <td>AR0002</td>\n",
       "      <td>AR0003</td>\n",
       "      <td>AR0004</td>\n",
       "      <td>AR0005</td>\n",
       "      <td>AR0006</td>\n",
       "      <td>AR0001</td>\n",
       "      <td>AR0002</td>\n",
       "      <td>AR0003</td>\n",
       "      <td>AR0004</td>\n",
       "    </tr>\n",
       "    <tr>\n",
       "      <th>time_period</th>\n",
       "      <td>NaN</td>\n",
       "      <td>NaN</td>\n",
       "      <td>NaN</td>\n",
       "      <td>NaN</td>\n",
       "      <td>NaN</td>\n",
       "      <td>NaN</td>\n",
       "      <td>NaN</td>\n",
       "      <td>NaN</td>\n",
       "      <td>NaN</td>\n",
       "      <td>NaN</td>\n",
       "    </tr>\n",
       "    <tr>\n",
       "      <th>time_period_type</th>\n",
       "      <td>NaN</td>\n",
       "      <td>NaN</td>\n",
       "      <td>NaN</td>\n",
       "      <td>NaN</td>\n",
       "      <td>NaN</td>\n",
       "      <td>NaN</td>\n",
       "      <td>NaN</td>\n",
       "      <td>NaN</td>\n",
       "      <td>NaN</td>\n",
       "      <td>NaN</td>\n",
       "    </tr>\n",
       "    <tr>\n",
       "      <th>value</th>\n",
       "      <td>0</td>\n",
       "      <td>0</td>\n",
       "      <td>2</td>\n",
       "      <td>1</td>\n",
       "      <td>127</td>\n",
       "      <td>0</td>\n",
       "      <td>0</td>\n",
       "      <td>0</td>\n",
       "      <td>9</td>\n",
       "      <td>0</td>\n",
       "    </tr>\n",
       "    <tr>\n",
       "      <th>unit</th>\n",
       "      <td>cases</td>\n",
       "      <td>cases</td>\n",
       "      <td>cases</td>\n",
       "      <td>cases</td>\n",
       "      <td>cases</td>\n",
       "      <td>cases</td>\n",
       "      <td>cases</td>\n",
       "      <td>cases</td>\n",
       "      <td>cases</td>\n",
       "      <td>cases</td>\n",
       "    </tr>\n",
       "  </tbody>\n",
       "</table>\n",
       "</div>"
      ],
      "text/plain": [
       "                                                 0  \\\n",
       "report_date                             2016-03-19   \n",
       "location                    Argentina-Buenos_Aires   \n",
       "location_type                             province   \n",
       "data_field        cumulative_confirmed_local_cases   \n",
       "data_field_code                             AR0001   \n",
       "time_period                                    NaN   \n",
       "time_period_type                               NaN   \n",
       "value                                            0   \n",
       "unit                                         cases   \n",
       "\n",
       "                                                1  \\\n",
       "report_date                            2016-03-19   \n",
       "location                   Argentina-Buenos_Aires   \n",
       "location_type                            province   \n",
       "data_field        cumulative_probable_local_cases   \n",
       "data_field_code                            AR0002   \n",
       "time_period                                   NaN   \n",
       "time_period_type                              NaN   \n",
       "value                                           0   \n",
       "unit                                        cases   \n",
       "\n",
       "                                                    2  \\\n",
       "report_date                                2016-03-19   \n",
       "location                       Argentina-Buenos_Aires   \n",
       "location_type                                province   \n",
       "data_field        cumulative_confirmed_imported_cases   \n",
       "data_field_code                                AR0003   \n",
       "time_period                                       NaN   \n",
       "time_period_type                                  NaN   \n",
       "value                                               2   \n",
       "unit                                            cases   \n",
       "\n",
       "                                                   3  \\\n",
       "report_date                               2016-03-19   \n",
       "location                      Argentina-Buenos_Aires   \n",
       "location_type                               province   \n",
       "data_field        cumulative_probable_imported_cases   \n",
       "data_field_code                               AR0004   \n",
       "time_period                                      NaN   \n",
       "time_period_type                                 NaN   \n",
       "value                                              1   \n",
       "unit                                           cases   \n",
       "\n",
       "                                             4                           5  \\\n",
       "report_date                         2016-03-19                  2016-03-19   \n",
       "location                Argentina-Buenos_Aires      Argentina-Buenos_Aires   \n",
       "location_type                         province                    province   \n",
       "data_field        cumulative_cases_under_study  cumulative_cases_discarded   \n",
       "data_field_code                         AR0005                      AR0006   \n",
       "time_period                                NaN                         NaN   \n",
       "time_period_type                           NaN                         NaN   \n",
       "value                                      127                           0   \n",
       "unit                                     cases                       cases   \n",
       "\n",
       "                                                 6  \\\n",
       "report_date                             2016-03-19   \n",
       "location                            Argentina-CABA   \n",
       "location_type                             province   \n",
       "data_field        cumulative_confirmed_local_cases   \n",
       "data_field_code                             AR0001   \n",
       "time_period                                    NaN   \n",
       "time_period_type                               NaN   \n",
       "value                                            0   \n",
       "unit                                         cases   \n",
       "\n",
       "                                                7  \\\n",
       "report_date                            2016-03-19   \n",
       "location                           Argentina-CABA   \n",
       "location_type                            province   \n",
       "data_field        cumulative_probable_local_cases   \n",
       "data_field_code                            AR0002   \n",
       "time_period                                   NaN   \n",
       "time_period_type                              NaN   \n",
       "value                                           0   \n",
       "unit                                        cases   \n",
       "\n",
       "                                                    8  \\\n",
       "report_date                                2016-03-19   \n",
       "location                               Argentina-CABA   \n",
       "location_type                                province   \n",
       "data_field        cumulative_confirmed_imported_cases   \n",
       "data_field_code                                AR0003   \n",
       "time_period                                       NaN   \n",
       "time_period_type                                  NaN   \n",
       "value                                               9   \n",
       "unit                                            cases   \n",
       "\n",
       "                                                   9  \n",
       "report_date                               2016-03-19  \n",
       "location                              Argentina-CABA  \n",
       "location_type                               province  \n",
       "data_field        cumulative_probable_imported_cases  \n",
       "data_field_code                               AR0004  \n",
       "time_period                                      NaN  \n",
       "time_period_type                                 NaN  \n",
       "value                                              0  \n",
       "unit                                           cases  "
      ]
     },
     "execution_count": 5,
     "metadata": {},
     "output_type": "execute_result"
    }
   ],
   "source": [
    "df.head(10).T"
   ]
  },
  {
   "cell_type": "raw",
   "metadata": {},
   "source": [
    "<< Filtrando resultados solo para el Ecuador >>"
   ]
  },
  {
   "cell_type": "code",
   "execution_count": 6,
   "metadata": {
    "collapsed": false
   },
   "outputs": [],
   "source": [
    "ec = df[df['location'].str.contains(\"Ecuador\")==True]"
   ]
  },
  {
   "cell_type": "code",
   "execution_count": 7,
   "metadata": {
    "collapsed": false
   },
   "outputs": [
    {
     "data": {
      "text/html": [
       "<div>\n",
       "<table border=\"1\" class=\"dataframe\">\n",
       "  <thead>\n",
       "    <tr style=\"text-align: right;\">\n",
       "      <th></th>\n",
       "      <th>report_date</th>\n",
       "      <th>location</th>\n",
       "      <th>location_type</th>\n",
       "      <th>data_field</th>\n",
       "      <th>data_field_code</th>\n",
       "      <th>time_period</th>\n",
       "      <th>time_period_type</th>\n",
       "      <th>value</th>\n",
       "      <th>unit</th>\n",
       "    </tr>\n",
       "  </thead>\n",
       "  <tbody>\n",
       "    <tr>\n",
       "      <th>98910</th>\n",
       "      <td>2016-03-30</td>\n",
       "      <td>Ecuador</td>\n",
       "      <td>country</td>\n",
       "      <td>total_zika_suspected_cumulative</td>\n",
       "      <td>EC0001</td>\n",
       "      <td>NaN</td>\n",
       "      <td>NaN</td>\n",
       "      <td>76</td>\n",
       "      <td>cases</td>\n",
       "    </tr>\n",
       "    <tr>\n",
       "      <th>98911</th>\n",
       "      <td>2016-03-30</td>\n",
       "      <td>Ecuador-Sucumbios</td>\n",
       "      <td>province</td>\n",
       "      <td>total_zika_suspected_cumulative</td>\n",
       "      <td>EC0001</td>\n",
       "      <td>NaN</td>\n",
       "      <td>NaN</td>\n",
       "      <td>1</td>\n",
       "      <td>cases</td>\n",
       "    </tr>\n",
       "    <tr>\n",
       "      <th>98912</th>\n",
       "      <td>2016-03-30</td>\n",
       "      <td>Ecuador-Santo_Domingo_de_los_Tsachilas</td>\n",
       "      <td>province</td>\n",
       "      <td>total_zika_suspected_cumulative</td>\n",
       "      <td>EC0001</td>\n",
       "      <td>NaN</td>\n",
       "      <td>NaN</td>\n",
       "      <td>1</td>\n",
       "      <td>cases</td>\n",
       "    </tr>\n",
       "    <tr>\n",
       "      <th>98913</th>\n",
       "      <td>2016-03-30</td>\n",
       "      <td>Ecuador-Santa_Elena</td>\n",
       "      <td>province</td>\n",
       "      <td>total_zika_suspected_cumulative</td>\n",
       "      <td>EC0001</td>\n",
       "      <td>NaN</td>\n",
       "      <td>NaN</td>\n",
       "      <td>8</td>\n",
       "      <td>cases</td>\n",
       "    </tr>\n",
       "    <tr>\n",
       "      <th>98914</th>\n",
       "      <td>2016-03-30</td>\n",
       "      <td>Ecuador-Pichincha</td>\n",
       "      <td>province</td>\n",
       "      <td>total_zika_suspected_cumulative</td>\n",
       "      <td>EC0001</td>\n",
       "      <td>NaN</td>\n",
       "      <td>NaN</td>\n",
       "      <td>19</td>\n",
       "      <td>cases</td>\n",
       "    </tr>\n",
       "  </tbody>\n",
       "</table>\n",
       "</div>"
      ],
      "text/plain": [
       "      report_date                                location location_type  \\\n",
       "98910  2016-03-30                                 Ecuador       country   \n",
       "98911  2016-03-30                       Ecuador-Sucumbios      province   \n",
       "98912  2016-03-30  Ecuador-Santo_Domingo_de_los_Tsachilas      province   \n",
       "98913  2016-03-30                     Ecuador-Santa_Elena      province   \n",
       "98914  2016-03-30                       Ecuador-Pichincha      province   \n",
       "\n",
       "                            data_field data_field_code  time_period  \\\n",
       "98910  total_zika_suspected_cumulative          EC0001          NaN   \n",
       "98911  total_zika_suspected_cumulative          EC0001          NaN   \n",
       "98912  total_zika_suspected_cumulative          EC0001          NaN   \n",
       "98913  total_zika_suspected_cumulative          EC0001          NaN   \n",
       "98914  total_zika_suspected_cumulative          EC0001          NaN   \n",
       "\n",
       "       time_period_type value   unit  \n",
       "98910               NaN    76  cases  \n",
       "98911               NaN     1  cases  \n",
       "98912               NaN     1  cases  \n",
       "98913               NaN     8  cases  \n",
       "98914               NaN    19  cases  "
      ]
     },
     "execution_count": 7,
     "metadata": {},
     "output_type": "execute_result"
    }
   ],
   "source": [
    "ec.head(5)"
   ]
  },
  {
   "cell_type": "code",
   "execution_count": 8,
   "metadata": {
    "collapsed": false
   },
   "outputs": [],
   "source": [
    "# eliminar las columnas en los que todos los valores sean NaN\n",
    "ec = ec.dropna(axis=1,how='all')"
   ]
  },
  {
   "cell_type": "code",
   "execution_count": 9,
   "metadata": {
    "collapsed": false
   },
   "outputs": [],
   "source": [
    "# eliminar la columna data_field_code porque es informacion sin valor\n",
    "try:\n",
    "    ec = ec.drop('data_field_code', 1)\n",
    "except (KeyError, ValueError):\n",
    "    print('not field found')"
   ]
  },
  {
   "cell_type": "code",
   "execution_count": 10,
   "metadata": {
    "collapsed": false
   },
   "outputs": [],
   "source": [
    "# # eliminar la columna data_field_code porque es informacion sin valor\n",
    "try:\n",
    "    ec = ec.drop('unit', 1)\n",
    "except (KeyError, ValueError):\n",
    "    print('not field found')    "
   ]
  },
  {
   "cell_type": "code",
   "execution_count": 11,
   "metadata": {
    "collapsed": false
   },
   "outputs": [
    {
     "data": {
      "text/html": [
       "<div>\n",
       "<table border=\"1\" class=\"dataframe\">\n",
       "  <thead>\n",
       "    <tr style=\"text-align: right;\">\n",
       "      <th></th>\n",
       "      <th>98910</th>\n",
       "      <th>98911</th>\n",
       "      <th>98912</th>\n",
       "      <th>98913</th>\n",
       "      <th>98914</th>\n",
       "    </tr>\n",
       "  </thead>\n",
       "  <tbody>\n",
       "    <tr>\n",
       "      <th>report_date</th>\n",
       "      <td>2016-03-30</td>\n",
       "      <td>2016-03-30</td>\n",
       "      <td>2016-03-30</td>\n",
       "      <td>2016-03-30</td>\n",
       "      <td>2016-03-30</td>\n",
       "    </tr>\n",
       "    <tr>\n",
       "      <th>location</th>\n",
       "      <td>Ecuador</td>\n",
       "      <td>Ecuador-Sucumbios</td>\n",
       "      <td>Ecuador-Santo_Domingo_de_los_Tsachilas</td>\n",
       "      <td>Ecuador-Santa_Elena</td>\n",
       "      <td>Ecuador-Pichincha</td>\n",
       "    </tr>\n",
       "    <tr>\n",
       "      <th>location_type</th>\n",
       "      <td>country</td>\n",
       "      <td>province</td>\n",
       "      <td>province</td>\n",
       "      <td>province</td>\n",
       "      <td>province</td>\n",
       "    </tr>\n",
       "    <tr>\n",
       "      <th>data_field</th>\n",
       "      <td>total_zika_suspected_cumulative</td>\n",
       "      <td>total_zika_suspected_cumulative</td>\n",
       "      <td>total_zika_suspected_cumulative</td>\n",
       "      <td>total_zika_suspected_cumulative</td>\n",
       "      <td>total_zika_suspected_cumulative</td>\n",
       "    </tr>\n",
       "    <tr>\n",
       "      <th>value</th>\n",
       "      <td>76</td>\n",
       "      <td>1</td>\n",
       "      <td>1</td>\n",
       "      <td>8</td>\n",
       "      <td>19</td>\n",
       "    </tr>\n",
       "  </tbody>\n",
       "</table>\n",
       "</div>"
      ],
      "text/plain": [
       "                                         98910  \\\n",
       "report_date                         2016-03-30   \n",
       "location                               Ecuador   \n",
       "location_type                          country   \n",
       "data_field     total_zika_suspected_cumulative   \n",
       "value                                       76   \n",
       "\n",
       "                                         98911  \\\n",
       "report_date                         2016-03-30   \n",
       "location                     Ecuador-Sucumbios   \n",
       "location_type                         province   \n",
       "data_field     total_zika_suspected_cumulative   \n",
       "value                                        1   \n",
       "\n",
       "                                                98912  \\\n",
       "report_date                                2016-03-30   \n",
       "location       Ecuador-Santo_Domingo_de_los_Tsachilas   \n",
       "location_type                                province   \n",
       "data_field            total_zika_suspected_cumulative   \n",
       "value                                               1   \n",
       "\n",
       "                                         98913  \\\n",
       "report_date                         2016-03-30   \n",
       "location                   Ecuador-Santa_Elena   \n",
       "location_type                         province   \n",
       "data_field     total_zika_suspected_cumulative   \n",
       "value                                        8   \n",
       "\n",
       "                                         98914  \n",
       "report_date                         2016-03-30  \n",
       "location                     Ecuador-Pichincha  \n",
       "location_type                         province  \n",
       "data_field     total_zika_suspected_cumulative  \n",
       "value                                       19  "
      ]
     },
     "execution_count": 11,
     "metadata": {},
     "output_type": "execute_result"
    }
   ],
   "source": [
    "ec.head(5).T"
   ]
  },
  {
   "cell_type": "code",
   "execution_count": 12,
   "metadata": {
    "collapsed": false
   },
   "outputs": [],
   "source": [
    "ec.rename(columns={'value':'cases'}, inplace=True)"
   ]
  },
  {
   "cell_type": "code",
   "execution_count": 13,
   "metadata": {
    "collapsed": false
   },
   "outputs": [],
   "source": [
    "ec = ec.reset_index(drop=True)"
   ]
  },
  {
   "cell_type": "code",
   "execution_count": 14,
   "metadata": {
    "collapsed": false,
    "scrolled": true
   },
   "outputs": [
    {
     "data": {
      "text/html": [
       "<div>\n",
       "<table border=\"1\" class=\"dataframe\">\n",
       "  <thead>\n",
       "    <tr style=\"text-align: right;\">\n",
       "      <th></th>\n",
       "      <th>0</th>\n",
       "      <th>1</th>\n",
       "      <th>2</th>\n",
       "      <th>3</th>\n",
       "      <th>4</th>\n",
       "    </tr>\n",
       "  </thead>\n",
       "  <tbody>\n",
       "    <tr>\n",
       "      <th>report_date</th>\n",
       "      <td>2016-03-30</td>\n",
       "      <td>2016-03-30</td>\n",
       "      <td>2016-03-30</td>\n",
       "      <td>2016-03-30</td>\n",
       "      <td>2016-03-30</td>\n",
       "    </tr>\n",
       "    <tr>\n",
       "      <th>location</th>\n",
       "      <td>Ecuador</td>\n",
       "      <td>Ecuador-Sucumbios</td>\n",
       "      <td>Ecuador-Santo_Domingo_de_los_Tsachilas</td>\n",
       "      <td>Ecuador-Santa_Elena</td>\n",
       "      <td>Ecuador-Pichincha</td>\n",
       "    </tr>\n",
       "    <tr>\n",
       "      <th>location_type</th>\n",
       "      <td>country</td>\n",
       "      <td>province</td>\n",
       "      <td>province</td>\n",
       "      <td>province</td>\n",
       "      <td>province</td>\n",
       "    </tr>\n",
       "    <tr>\n",
       "      <th>data_field</th>\n",
       "      <td>total_zika_suspected_cumulative</td>\n",
       "      <td>total_zika_suspected_cumulative</td>\n",
       "      <td>total_zika_suspected_cumulative</td>\n",
       "      <td>total_zika_suspected_cumulative</td>\n",
       "      <td>total_zika_suspected_cumulative</td>\n",
       "    </tr>\n",
       "    <tr>\n",
       "      <th>cases</th>\n",
       "      <td>76</td>\n",
       "      <td>1</td>\n",
       "      <td>1</td>\n",
       "      <td>8</td>\n",
       "      <td>19</td>\n",
       "    </tr>\n",
       "  </tbody>\n",
       "</table>\n",
       "</div>"
      ],
      "text/plain": [
       "                                             0  \\\n",
       "report_date                         2016-03-30   \n",
       "location                               Ecuador   \n",
       "location_type                          country   \n",
       "data_field     total_zika_suspected_cumulative   \n",
       "cases                                       76   \n",
       "\n",
       "                                             1  \\\n",
       "report_date                         2016-03-30   \n",
       "location                     Ecuador-Sucumbios   \n",
       "location_type                         province   \n",
       "data_field     total_zika_suspected_cumulative   \n",
       "cases                                        1   \n",
       "\n",
       "                                                    2  \\\n",
       "report_date                                2016-03-30   \n",
       "location       Ecuador-Santo_Domingo_de_los_Tsachilas   \n",
       "location_type                                province   \n",
       "data_field            total_zika_suspected_cumulative   \n",
       "cases                                               1   \n",
       "\n",
       "                                             3  \\\n",
       "report_date                         2016-03-30   \n",
       "location                   Ecuador-Santa_Elena   \n",
       "location_type                         province   \n",
       "data_field     total_zika_suspected_cumulative   \n",
       "cases                                        8   \n",
       "\n",
       "                                             4  \n",
       "report_date                         2016-03-30  \n",
       "location                     Ecuador-Pichincha  \n",
       "location_type                         province  \n",
       "data_field     total_zika_suspected_cumulative  \n",
       "cases                                       19  "
      ]
     },
     "execution_count": 14,
     "metadata": {},
     "output_type": "execute_result"
    }
   ],
   "source": [
    "ec.head(5).T"
   ]
  },
  {
   "cell_type": "code",
   "execution_count": 15,
   "metadata": {
    "collapsed": false
   },
   "outputs": [
    {
     "data": {
      "image/png": "[encoded data removed]",
      "text/plain": [
       "<IPython.core.display.Image object>"
      ]
     },
     "execution_count": 15,
     "metadata": {},
     "output_type": "execute_result"
    }
   ],
   "source": [
    "Image('img/report_date_by location_type.png')"
   ]
  },
  {
   "cell_type": "code",
   "execution_count": 16,
   "metadata": {
    "collapsed": false,
    "scrolled": false
   },
   "outputs": [
    {
     "data": {
      "text/html": [
       "\n",
       "        <iframe\n",
       "            width=\"100%\"\n",
       "            height=\"500\"\n",
       "            src=\"pivottablejs.html\"\n",
       "            frameborder=\"0\"\n",
       "            allowfullscreen\n",
       "        ></iframe>\n",
       "        "
      ],
      "text/plain": [
       "<IPython.lib.display.IFrame at 0x10b19ba50>"
      ]
     },
     "execution_count": 16,
     "metadata": {},
     "output_type": "execute_result"
    }
   ],
   "source": [
    "# Con esta herramienta se puede hacer graficos de manera muy facil como el de arriba,\n",
    "# es buena idea porque permite jugar con los datos muy rapido en busca de algo interesante\n",
    "pivot_ui(ec)"
   ]
  },
  {
   "cell_type": "code",
   "execution_count": 18,
   "metadata": {
    "collapsed": false
   },
   "outputs": [],
   "source": [
    "!git add *"
   ]
  },
  {
   "cell_type": "code",
   "execution_count": 20,
   "metadata": {
    "collapsed": false
   },
   "outputs": [
    {
     "name": "stdout",
     "output_type": "stream",
     "text": [
      "[master 1b8e8f4] add wiki and utube and graph\r\n",
      " 3 files changed, 986 insertions(+), 26 deletions(-)\r\n",
      " create mode 100644 img/report_date_by location_type.png\r\n",
      " create mode 100644 pivottablejs.html\r\n"
     ]
    }
   ],
   "source": [
    "!git commit -m 'add wiki and utube and graph'"
   ]
  },
  {
   "cell_type": "code",
   "execution_count": 21,
   "metadata": {
    "collapsed": false
   },
   "outputs": [
    {
     "name": "stdout",
     "output_type": "stream",
     "text": [
      "Counting objects: 6, done.\n",
      "Delta compression using up to 4 threads.\n",
      "Compressing objects: 100% (6/6), done.\n",
      "Writing objects: 100% (6/6), 164.60 KiB | 0 bytes/s, done.\n",
      "Total 6 (delta 0), reused 0 (delta 0)\n",
      "To https://github.com/longShot-88/zika.git\n",
      "   b7fe551..1b8e8f4  master -> master\n"
     ]
    }
   ],
   "source": [
    "!git push"
   ]
  },
  {
   "cell_type": "code",
   "execution_count": 22,
   "metadata": {
    "collapsed": false
   },
   "outputs": [
    {
     "name": "stdout",
     "output_type": "stream",
     "text": [
      "On branch master\r\n",
      "Your branch is up-to-date with 'origin/master'.\r\n",
      "Untracked files:\r\n",
      "  (use \"git add <file>...\" to include in what will be committed)\r\n",
      "\r\n",
      "\t\u001b[31m.ipynb_checkpoints/\u001b[m\r\n",
      "\r\n",
      "nothing added to commit but untracked files present (use \"git add\" to track)\r\n"
     ]
    }
   ],
   "source": [
    "!git status"
   ]
  }
 ],
 "metadata": {
  "kernelspec": {
   "display_name": "Python 2",
   "language": "python",
   "name": "python2"
  },
  "language_info": {
   "codemirror_mode": {
    "name": "ipython",
    "version": 2
   },
   "file_extension": ".py",
   "mimetype": "text/x-python",
   "name": "python",
   "nbconvert_exporter": "python",
   "pygments_lexer": "ipython2",
   "version": "2.7.11"
  }
 },
 "nbformat": 4,
 "nbformat_minor": 0
}
